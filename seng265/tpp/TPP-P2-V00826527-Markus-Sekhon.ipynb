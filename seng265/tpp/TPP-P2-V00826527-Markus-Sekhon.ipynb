{
 "cells": [
  {
   "cell_type": "markdown",
   "id": "6cd8d46e",
   "metadata": {},
   "source": [
    "<br>\n",
    "<br>\n",
    "<br>\n",
    "<br>\n",
    "<br>\n",
    "<br>\n",
    "<br>\n",
    "<br>\n",
    "<h1>Markus Sekhon</h1>\n",
    "<h3>SENG 265</h3>\n",
    "<h3>V00000000</h3>\n",
    "<br>\n",
    "<br>\n",
    "<br>\n",
    "<br>\n",
    "<br>\n",
    "<br>\n",
    "<br>\n",
    "<br>\n",
    "<br>\n",
    "<br>\n",
    "<br>\n",
    "<br>\n",
    "<br>\n",
    "<br>\n",
    "<br>\n",
    "<br>\n",
    "<br>\n",
    "<br>\n",
    "<br>\n",
    "<br>\n",
    "<br>\n",
    "<br>\n",
    "<br>\n",
    "<br>\n",
    "<br>\n",
    "<br>\n",
    "<br>"
   ]
  },
  {
   "cell_type": "markdown",
   "id": "7979ac8d",
   "metadata": {},
   "source": [
    "<br>\n",
    "<br>\n",
    "<h1> Thought I would introduce George to you to lift your mood if you need it!</h1>\n",
    "![George](https://i.imgur.com/FMjCAMl.png)\n",
    "<br>\n",
    "<br>\n",
    "<br>\n",
    "<br>"
   ]
  },
  {
   "cell_type": "markdown",
   "id": "aa0fe0f5",
   "metadata": {},
   "source": [
    "<h3>Describe your continued learning experience in SENG 265.</h3>\n",
    "\n",
    "Im going to display some stuff that I referenced throughout the course so far. It isn't much as most of my learning experience has just been done through interacting with the material first hand.\n",
    "\n",
    "Ill also be continously answering some questions that document my learning experience and those will be after some notes that I reference from time to time.\n",
    "\n",
    "![Class](https://i.imgur.com/AQ1m4Te.png)\n",
    "\n",
    "<h3> Git Commands </h3>\n",
    "\n",
    "glone a repo:"
   ]
  },
  {
   "cell_type": "code",
   "execution_count": null,
   "id": "ddd1f6fa",
   "metadata": {},
   "outputs": [],
   "source": [
    "git clone <url> <LOCALNAME>"
   ]
  },
  {
   "cell_type": "markdown",
   "id": "5f026d2c",
   "metadata": {},
   "source": [
    "gdd a file to staging area: "
   ]
  },
  {
   "cell_type": "code",
   "execution_count": null,
   "id": "11d8983c",
   "metadata": {},
   "outputs": [],
   "source": [
    "git add <file> (alternatively git add .. to add all)"
   ]
  },
  {
   "cell_type": "markdown",
   "id": "8cc91910",
   "metadata": {},
   "source": [
    "get ready to push a change:"
   ]
  },
  {
   "cell_type": "code",
   "execution_count": null,
   "id": "0023a303",
   "metadata": {},
   "outputs": [],
   "source": [
    "git commit -m \"notes about changes made here\""
   ]
  },
  {
   "cell_type": "markdown",
   "id": "7d23a8e0",
   "metadata": {},
   "source": [
    "push the change:"
   ]
  },
  {
   "cell_type": "code",
   "execution_count": null,
   "id": "4ce588de",
   "metadata": {},
   "outputs": [],
   "source": [
    "git push"
   ]
  },
  {
   "cell_type": "markdown",
   "id": "34c437d5",
   "metadata": {},
   "source": [
    "see the history of commits:"
   ]
  },
  {
   "cell_type": "code",
   "execution_count": null,
   "id": "c7196ab7",
   "metadata": {},
   "outputs": [],
   "source": [
    "git log"
   ]
  },
  {
   "cell_type": "markdown",
   "id": "acb11a95",
   "metadata": {},
   "source": [
    "change to a previous version:"
   ]
  },
  {
   "cell_type": "code",
   "execution_count": null,
   "id": "e304f61d",
   "metadata": {},
   "outputs": [],
   "source": [
    "git reset --hard <commit id>"
   ]
  },
  {
   "cell_type": "markdown",
   "id": "6d0a5371",
   "metadata": {},
   "source": [
    "<h3> Bash Commands </h3>\n",
    "\n",
    "list directory:"
   ]
  },
  {
   "cell_type": "code",
   "execution_count": null,
   "id": "91cf894e",
   "metadata": {},
   "outputs": [],
   "source": [
    "ls"
   ]
  },
  {
   "cell_type": "markdown",
   "id": "3ee8777e",
   "metadata": {},
   "source": [
    "print current directory:"
   ]
  },
  {
   "cell_type": "code",
   "execution_count": null,
   "id": "bf26cee6",
   "metadata": {},
   "outputs": [],
   "source": [
    "pwd"
   ]
  },
  {
   "cell_type": "markdown",
   "id": "b2c8cb5b",
   "metadata": {},
   "source": [
    "change directory:"
   ]
  },
  {
   "cell_type": "code",
   "execution_count": null,
   "id": "e3ef9d27",
   "metadata": {},
   "outputs": [],
   "source": [
    "cd <PATH>"
   ]
  },
  {
   "cell_type": "markdown",
   "id": "eb0abd95",
   "metadata": {},
   "source": [
    "create file:"
   ]
  },
  {
   "cell_type": "code",
   "execution_count": null,
   "id": "7506263e",
   "metadata": {},
   "outputs": [],
   "source": [
    "touch <file name>.<type>"
   ]
  },
  {
   "cell_type": "markdown",
   "id": "2602ce8d",
   "metadata": {},
   "source": [
    "make a directory:"
   ]
  },
  {
   "cell_type": "code",
   "execution_count": null,
   "id": "658490e7",
   "metadata": {},
   "outputs": [],
   "source": [
    "mkdir <name>"
   ]
  },
  {
   "cell_type": "markdown",
   "id": "db11e462",
   "metadata": {},
   "source": [
    "remove a file/directory:"
   ]
  },
  {
   "cell_type": "code",
   "execution_count": null,
   "id": "ee35e084",
   "metadata": {},
   "outputs": [],
   "source": [
    "rm <name>"
   ]
  },
  {
   "cell_type": "markdown",
   "id": "727d8693",
   "metadata": {},
   "source": [
    "copy a file / directory:"
   ]
  },
  {
   "cell_type": "code",
   "execution_count": null,
   "id": "8631caed",
   "metadata": {},
   "outputs": [],
   "source": [
    "cp <source> <destination>"
   ]
  },
  {
   "cell_type": "markdown",
   "id": "bed86562",
   "metadata": {},
   "source": [
    "print to terminal and or conctonate: (can use to pipe)"
   ]
  },
  {
   "cell_type": "code",
   "execution_count": null,
   "id": "7c36ba23",
   "metadata": {},
   "outputs": [],
   "source": [
    "cat <file>"
   ]
  },
  {
   "cell_type": "markdown",
   "id": "00fca312",
   "metadata": {},
   "source": [
    "print to terminal:"
   ]
  },
  {
   "cell_type": "code",
   "execution_count": null,
   "id": "3248ad6d",
   "metadata": {},
   "outputs": [],
   "source": [
    "echo"
   ]
  },
  {
   "cell_type": "markdown",
   "id": "0cf57b70",
   "metadata": {},
   "source": [
    "display manual for a command:"
   ]
  },
  {
   "cell_type": "code",
   "execution_count": null,
   "id": "8394d8f0",
   "metadata": {},
   "outputs": [],
   "source": [
    "man <command>"
   ]
  },
  {
   "cell_type": "markdown",
   "id": "d92c89b2",
   "metadata": {},
   "source": [
    "search for patterns in a file:"
   ]
  },
  {
   "cell_type": "code",
   "execution_count": null,
   "id": "70d35151",
   "metadata": {},
   "outputs": [],
   "source": [
    "grep <patterns> <file>"
   ]
  },
  {
   "cell_type": "markdown",
   "id": "60507afd",
   "metadata": {},
   "source": [
    "change permissions:"
   ]
  },
  {
   "cell_type": "code",
   "execution_count": null,
   "id": "94812bcb",
   "metadata": {},
   "outputs": [],
   "source": [
    "chmod <modifier> <file/directory>"
   ]
  },
  {
   "cell_type": "markdown",
   "id": "fdd4d2e8",
   "metadata": {},
   "source": [
    "<h3> Course Commands </h3>"
   ]
  },
  {
   "cell_type": "markdown",
   "id": "69f057e1",
   "metadata": {},
   "source": [
    "pull a lab file:"
   ]
  },
  {
   "cell_type": "code",
   "execution_count": null,
   "id": "e8148291",
   "metadata": {},
   "outputs": [],
   "source": [
    "scp \"msekhon@seng265.seng.uvic.ca:/seng265work/2023-summer/INSERT_LAB/*\" ."
   ]
  },
  {
   "cell_type": "markdown",
   "id": "aceef3e9",
   "metadata": {},
   "source": [
    "send a file to the server:"
   ]
  },
  {
   "cell_type": "code",
   "execution_count": null,
   "id": "ecf2f47b",
   "metadata": {},
   "outputs": [],
   "source": [
    "scp <filename> msekhon@ugls.ece.uvic.ca:/home/msekhon/"
   ]
  },
  {
   "cell_type": "markdown",
   "id": "c0e22e68",
   "metadata": {},
   "source": [
    "pull a file from the server:"
   ]
  },
  {
   "cell_type": "code",
   "execution_count": null,
   "id": "6889d14f",
   "metadata": {},
   "outputs": [],
   "source": [
    "scp msekhon@ugls.ece.uvic.ca:/home/msekhon/myremotefile.txt ."
   ]
  },
  {
   "cell_type": "markdown",
   "id": "9c62981a",
   "metadata": {},
   "source": [
    "ssh link: [server link](https://labs.engr.uvic.ca/guacamole/#/client/MzMAZwBteXNxbA)\n",
    "\n",
    "ssh command:"
   ]
  },
  {
   "cell_type": "code",
   "execution_count": null,
   "id": "5dcc105f",
   "metadata": {},
   "outputs": [],
   "source": [
    "ssh ugls.ece.uvic.ca -l msekhon"
   ]
  },
  {
   "cell_type": "markdown",
   "id": "8d6c77db",
   "metadata": {},
   "source": [
    "set python environment for seng265:"
   ]
  },
  {
   "cell_type": "code",
   "execution_count": null,
   "id": "daab37f8",
   "metadata": {},
   "outputs": [],
   "source": [
    "setSENG265"
   ]
  },
  {
   "cell_type": "markdown",
   "id": "07593be1",
   "metadata": {},
   "source": [
    "<h3> Python Stuff </h3>"
   ]
  },
  {
   "cell_type": "markdown",
   "id": "3e860d79",
   "metadata": {},
   "source": [
    "Basic Data Structures\n",
    "    Queue FIFO\n",
    "    Stack LIFO\n",
    "    Deque Insert and/or Remove on either end\n",
    "    List can been seen as blocks with pointers to each each on the list, and also each location\n",
    "    \n",
    "    // inserting into list w/ right profiling in python is faster\n",
    "    \n",
    "List\n",
    " - list.sort() //inplace\n",
    " - list.reverse() //inplace\n",
    " \n",
    "Python List\n",
    "    - dynamic arrays\n",
    "    - O(1) insert and delete opps on one end\n",
    "    - O(n) insert and delete opps on another end\n",
    "    - O(n) in middle to delete and insert because have to shift other elements\n",
    "    - O(1) access for whole list\n",
    "     \n",
    "Python Deque\n",
    "    - doubly linked list\n",
    "    - O(1) insert/delete for either end\n",
    "    - O(n) for insert and delete at any location\n",
    "    - O(n) to access all indicies\n",
    "    "
   ]
  },
  {
   "cell_type": "markdown",
   "id": "e612c53f",
   "metadata": {},
   "source": [
    "timeit()\n",
    "\n",
    "performance measurements\n",
    "\n",
    "runs code many times and averages the result"
   ]
  },
  {
   "cell_type": "code",
   "execution_count": null,
   "id": "3742c8c7",
   "metadata": {},
   "outputs": [],
   "source": [
    "import timeit\n",
    "\n",
    "elapsed_time = timeit.timeit(code to measure, number to repeat)\n",
    "\n",
    "elapsed_time = timeit.timeit(lambda: functon(), number to repeat)"
   ]
  },
  {
   "cell_type": "markdown",
   "id": "e700af3c",
   "metadata": {},
   "source": [
    "Slicing - not inplace start/stop is inclusive/exclusive"
   ]
  },
  {
   "cell_type": "code",
   "execution_count": null,
   "id": "04cf1981",
   "metadata": {},
   "outputs": [],
   "source": [
    "subsequnce = sequence[start:stop:step]"
   ]
  },
  {
   "cell_type": "code",
   "execution_count": null,
   "id": "c7241ddb",
   "metadata": {},
   "outputs": [],
   "source": [
    "itertools.islice(iterable, start, stop, step)"
   ]
  },
  {
   "cell_type": "markdown",
   "id": "78b4bbf0",
   "metadata": {},
   "source": [
    "Tacit Knowledge or Implicit knowledge - knowledge that is implied, have to engage in dialogue to obtain\n"
   ]
  },
  {
   "cell_type": "markdown",
   "id": "dcc653ce",
   "metadata": {},
   "source": [
    "return vs yield\n",
    "    - yield stores previous iterations\n"
   ]
  },
  {
   "cell_type": "markdown",
   "id": "e25d6585",
   "metadata": {},
   "source": [
    "<h3> C Stuff </h3>"
   ]
  },
  {
   "cell_type": "markdown",
   "id": "89db7bdc",
   "metadata": {},
   "source": [
    "Memory:\n",
    "\n",
    "    void *malloc(size_t size) //size is in bytes\n",
    "\n",
    "    x = (int*) malloc(sizeof(int))\n",
    "    \n",
    "    "
   ]
  },
  {
   "cell_type": "markdown",
   "id": "dc81aeb7",
   "metadata": {},
   "source": [
    "<h3>How did you experience chatGPT as a learning tool?</h3>\n",
    "\n",
    "<h4>Part 1</h4>\n",
    "\n",
    "I wanted to lead my portfolio this question because chatGPT has been my biggest supporter in all aspects of learning inside and outside of SENG265.\n",
    "\n",
    "Whenever I come across a concept that I don't quite understand, or feel that I am missing knowledge pre-requsite to the subject, I approach chatGPT as if it were my peer and interact with it. I personally have found that it makes many mistakes along the way, just as any peer might, and that has also helped me stay sharp as I know that mindlessly interacting with it would give back exectly what I put in.\n",
    "\n",
    "Personally, I am really happy that Professor Muller has helped push this into my toolbox as a student, and also as a dev.\n",
    "\n",
    "<h4>Part 2</h4>\n",
    "\n",
    "In the second half of the semester I used chatGPT much like I did before.\n",
    "\n",
    "Outside of SENG265, I started to learn rust, and I have found it quite helpful in terms of explaining ownership, and other concepts of rust I have had difficulty with. This can be said about any concepts we discussed in class this semestes as well. If I ever needed to reinforce what was discussed in class, I would just have a casual conversation with chatGPT about it! For example, I wanted to know if was possible to create a memory leak in python - so I asked chatGPT and it went and drew me up an example rather quickly!\n",
    "\n",
    "Another thing of note is that I randomly had a great conversation with Hausi in the parking lot at UVic regarding chatGPT. Hausi told me about about how there was now a code interpereter built into chatGPT 4, as well as the ability to use plug-ins. When I got home, I enabled those tools as they were in beta, and  I found them to be really fun to play around with. Much of the plugins were very clunky and they also reduced the accuracy of chatGPT - still, I have still found them useful from time-to-time. Just recently I was trying to explain a concept to a friend and it required using your visual intuition and imagation quite a bit - so I turned to chatGPT and used the diagram plug-in in order to create a plugin. Sure, I could have just drawn it myself, but I wouldnt have been able to do it so quickly, nor could have I done it as neatly.\n",
    "\n",
    "\n",
    "\n",
    "<br>\n"
   ]
  },
  {
   "cell_type": "markdown",
   "id": "f8a89b62",
   "metadata": {},
   "source": [
    "<h3>Summarize PEP 8 and be prepared to answer questions about PEP 8 in the final exam. </h3>\n",
    "\n",
    "Indentation\n",
    "- use 4 spaces per indentation\n",
    "\n",
    "Max Line Length\n",
    "- limit all lines to a maximum of 79 characters\n",
    "\n",
    "Imports\n",
    "- imports should be on seperate lines, but groups in the following order\n",
    "    - std lib\n",
    "    - related 3rd party imports\n",
    "    - local application\n",
    "\n",
    "Whitespace\n",
    "- avoid extra whitespace:\n",
    "    - parentheses\n",
    "    - brackets/braces\n",
    "    - before a comma/semicolon/colon\n",
    "   \n",
    "Comments\n",
    "- complete sentences and sparingly used\n",
    "\n",
    "Naming Conventions\n",
    "- camel case should be used for class names\n",
    "- functions are lowercase and _ seperated\n",
    "\n",
    "Code layout\n",
    "- top level function and class defentions should be surrounded by two blank lines\n",
    "- method definitions should be seperated by one line"
   ]
  },
  {
   "cell_type": "markdown",
   "id": "ed1aa4a4",
   "metadata": {},
   "source": [
    "<h3>Describe at least five of your favourite libraries in the Python ecosystem.</h3>\n",
    "\n",
    "NumPy\n",
    "- provides support large, multi-dimensional arrays and matrices, along with a host of mathematical functions\n",
    "\n",
    "discord.py\n",
    "- for interacting with discord and its api\n",
    "- modern pythonic api, easy to use, has data classes\n",
    "\n",
    "pandas\n",
    "- offers data manipulation and analysis capabilities\n",
    "\n",
    "matplotlib\n",
    "- plotting library that can create static, animated, and interactive plots\n",
    "\n",
    "scikit-learn\n",
    "- an efficient tool for machine learning and statistical modeling"
   ]
  },
  {
   "cell_type": "markdown",
   "id": "fc742ef9",
   "metadata": {},
   "source": [
    "<h3>What are your personal insights, aha moments, and epiphanies you experienced in the SENG 265 course?</h3>\n",
    "\n",
    "<h4>Part 1</h4>\n",
    "\n",
    "For me, I would say SENG265 has mostly helped me realize that my largest struggles are producing structured work, and that is what I need to focus on mostly going forward as a developer as it is important in order to make sure my work doesn't start its life as legacy code.\n",
    "\n",
    "Producing this work starts from taking a top down approach and developing the concepts (prototypes) of functions as you go along. Building an outline for the logic of your program before you start typing will help make sure you don't have all of your code stuck in main... and maybe you might be able to find another life for that function down the line instead of having to rewrite those same lines of code a million times over.\n",
    "\n",
    "A random and truthful aside would be that I found myself liking the mathematical concepts much more than the actual work of development. Now, that isn't to say I don't like development - as much of development is just applying problem solving techniques - I think I am just trying to say that even after I graduate and join the workforce, I expect myself reaching out to interact with theory a decent amount during my own personal time.\n",
    "<br>\n",
    "\n",
    "<h4>Part 2</h4>\n",
    "\n",
    "In the second half of the semester the only aha moment/epiphany I had was when we were talking about defining a struct in C. We went about it in such a unique way that I became confused despite feeling like I had a grasp on the concept, to come out on the other side with a much better understanding."
   ]
  },
  {
   "cell_type": "markdown",
   "id": "c6783e8a",
   "metadata": {},
   "source": [
    "<h3> In SENG 265 you acquired significant systems programming knowledge and learned many different skills (e.g., C, Python, Unix, Bash, make, pipes & filters, SVG, HTML, static and dynamic data structures, testing and debugging, logging, text processing, and many more). Which skills are most valuable for you? Which skills are you going to add to your resume? </h3>\n",
    "\n",
    "Because of SENG265 I gave running linux as my daily driver another shot, and I have to say it has changed my life. It has made me enjoy using my desktop once again, and be able to only have to use my laptop when I am mobile. This is because my laptop ran on mac os, and my desktop was windows. Its not that I didnt like windows, I just didnt find it fun to use cmd/powershell and having to code in the windows environment, and I didnt game that much anymore. So when I made the switch to linux I loved it. I felt less afraid because of learning bash formally, even though it wasnt that much of a deep dive into it.\n",
    "\n",
    "I am greatful to have learnt C, and I will continue using it. I am not a big fan of python so I will avoid having to use it, but I think it is just an industry standard at this point so I hope I learn to love it.\n",
    "\n",
    "I feel comfortable being able to add C to my resume on the level of novice now, as well as python."
   ]
  },
  {
   "cell_type": "markdown",
   "id": "67712c7e",
   "metadata": {},
   "source": [
    "<h3>How useful is SENG 265 for building your resume for future co-op applications and future job applications?</h3>\n",
    "\n",
    "SENG has given me the confidence I need to start applying. I already had a resume built, but I felt that despite that I had no motivation to apply within this industry because I felt like I didn't know enough tools. Being exposed to so much, despite not being able to go deeply into it, has helped strengthen my confidence as an applicant.\n",
    "\n",
    "Hausi really cares about the students finding co-op placement, and it shows!"
   ]
  },
  {
   "cell_type": "markdown",
   "id": "129470e9",
   "metadata": {},
   "source": [
    "<h3>Describe the Python concepts of deep copy and shallow copy of objects as well as the purpose of the methods __copy__() and __deepcopy__() as outlined in the Python copy module.</h3>\n",
    "\n",
    "\n",
    "The copy module provides these functionalities.\n",
    "\n",
    "A shallow copy creates a reference to the objects you are copying, and a deep copy makes a new object it memory and copies the details of the object at that moment in time.\n",
    "\n",
    "A shallow copy is useful when you want to make copies of objects that are immutable. A deep copy is useful when you want to make a coppies of objects that are immutable.\n",
    "\n",
    "\n",
    "`__copy__()` and `__deepCopy__()` are used to define how you want the class copied if the copy/deepcopy method is called on it. With this you can find tune you define a regular copy and a deep copy with resepect to how they use memory."
   ]
  },
  {
   "cell_type": "markdown",
   "id": "376aef75",
   "metadata": {},
   "source": [
    "<h3>What is the core functionality of Jupyter Notebooks?</h3>\n",
    "\n",
    "Juptyer Notebooks is an interactive computing environment where you can create documents that have a mix of live code, visualizations, equations, texts, images, and more.\n",
    "\n",
    "An example use case of an environment like this would be the ability to give snippets of code alongside markdown boxs containing explanations for the code - essentially creating a unique experience to documentation.\n",
    "<br>"
   ]
  },
  {
   "cell_type": "markdown",
   "id": "920d759e",
   "metadata": {},
   "source": [
    "<h3>Summarize simple Jupyter Notebook markdown including how to insert links and images? How can you typeset mathematical formulas including Greek letters in Jupyter Notebooks?</h3>\n",
    "\n",
    "Markdown allows you to format text and include visualizations - to insert a link you could do the following:"
   ]
  },
  {
   "cell_type": "code",
   "execution_count": null,
   "id": "131d0810",
   "metadata": {},
   "outputs": [],
   "source": [
    "[link explanation](URL)"
   ]
  },
  {
   "cell_type": "markdown",
   "id": "efc9985f",
   "metadata": {},
   "source": [
    "And to insert an image:"
   ]
  },
  {
   "cell_type": "code",
   "execution_count": null,
   "id": "8092082a",
   "metadata": {},
   "outputs": [],
   "source": [
    "![image caption](URL)"
   ]
  },
  {
   "cell_type": "markdown",
   "id": "6af98f88",
   "metadata": {},
   "source": [
    "To typeset mathematical formulas you could use LaTeX within the markdown boxes. For example to show case Euler's Identity"
   ]
  },
  {
   "cell_type": "markdown",
   "id": "1f1c5808",
   "metadata": {},
   "source": [
    "$$\n",
    "e^{i\\pi} + 1 = 0\n",
    "$$"
   ]
  },
  {
   "cell_type": "markdown",
   "id": "10652563",
   "metadata": {},
   "source": [
    "You would need to type the following LaTeX markdown:"
   ]
  },
  {
   "cell_type": "code",
   "execution_count": null,
   "id": "c9ca232e",
   "metadata": {},
   "outputs": [],
   "source": [
    "$$\n",
    "e^{i\\pi} + 1 = 0\n",
    "$$"
   ]
  },
  {
   "cell_type": "markdown",
   "id": "69c30710",
   "metadata": {},
   "source": [
    "<h3>What is the core functionality of the Bash command and scripting language?</h3>\n",
    "\n",
    "Bash, which stands for Bourne Again Shell, is the default shell for most Unix-based operating systems. The main purpose is that it provides a command line interface (CLI) and a scripting environment for Unix and Linux systems.\n",
    "\n",
    "With bash you are able to do pretty much anything you have come to known to do with a computer, it is just done through a different interface.\n",
    "\n",
    "With the help of VIM you can even remote into servers though a SSH protocol and then edit text files on those machines. Effectively, you can code remotely without the file ever even existing on your machine!\n",
    "\n",
    "<br>"
   ]
  },
  {
   "cell_type": "markdown",
   "id": "0c5264a1",
   "metadata": {},
   "source": [
    "<h3>What is your background in the scripting language Bash? How prevalent is Bash in software development today?</h3>\n",
    "\n",
    "Personally I had used bash previously to help automate bash commands that I would have to type out manually, and repetatively. An example of this would be automating test cases for a piece of code that you are writting. I would create a bash script that would compile the code and run it through multiple tests in order to troubleshoot what I needed to fix about it. This dramatically helped my efficiency as I didn't have to spend time writing out each bash command to do so.\n",
    "\n",
    "Bash scripting and bash is huge in the software development landscape. It allows you to use the CLI, and I am pretty sure it is the basis of the GUI anyways. I gave an example of how it fits in the developer's toolbox.\n",
    "<br>"
   ]
  },
  {
   "cell_type": "markdown",
   "id": "729bcb22",
   "metadata": {},
   "source": [
    "<h3>Why are version control and configuration management critical in software development projects?</h3>\n",
    "\n",
    "I can give you a real life example I faced today!\n",
    "\n",
    "I realized much of edits that I had been saving in the days past for a project I had been working on were creating a lot of issues and I needed to revert all of them. Instead of having to go line by line to find what changes needed to be reverted to go back to a state in which my code was functional, I just reset the state of the file to a previous version.\n",
    "\n",
    "When collaborating on projects you can create multiple branches and have systems in place that allow you to test code on certain branches and then eventually have them collect back into the master/origin branch or live branch. Despite all this you might still have users experience bugs, and having version control allows you to quickly revert changes to a previously desired state.\n",
    "<br>"
   ]
  },
  {
   "cell_type": "markdown",
   "id": "03b27221",
   "metadata": {},
   "source": [
    "<h3>What are the core functionalities of Git, Github, and Gitlab?</h3>\n",
    "\n",
    "Git is a free and open sourced version control system. It was made by Linus Torvalds (who also made Linux I believe)!\n",
    "\n",
    "At its core it allows you do version control, have different branches that you can work on and then later merge, it allows a staging area where you can review work before you push it to the branch you are working on, and it allows you to distribute this environment across a network.\n",
    "\n",
    "GitHub and GitLabs are web-based hosting services for Git repositories. They offer their own unique features ontop of the core of Git.\n",
    "<br>"
   ]
  },
  {
   "cell_type": "markdown",
   "id": "f9782c55",
   "metadata": {},
   "source": [
    "<h3>What is your background in the programming language C? How prevalent is C in software development today?</h3>\n",
    "\n",
    "I have no experience with C before this course!\n",
    "\n",
    "C is obviously very wide spread and is known for its efficiency and speed! It is also knowing to be daunting to deal with as you have to do your own garbage collection even - memory management is not given to you for free.\n",
    "\n",
    "Its used in systems programming and embedded systems just to name a few things.\n",
    "<br>"
   ]
  },
  {
   "cell_type": "markdown",
   "id": "362a6fd3",
   "metadata": {},
   "source": [
    "<h3>What is your background in the programming language Python 3? How prevalent is Python 3 in software development today?</h3>\n",
    "\n",
    "My experience with Python is limited to CSC 110 at UVic and some machine learning course I took on my free time.\n",
    "\n",
    "To be frank, the stuff that I was dealing with in the machine learning course was over my head and lost my interest pretty quickly, and in CSC 110 I was pretty bored as I already knew all of these programming concepts and picked them up with no effort at all.\n",
    "\n",
    "So it would be fair to say I haven't really given python a fair chance as a programming language and java has always been my go to.\n",
    "\n",
    "Python is very prevelant in the software development landscape today, and machine learning is an aspect of that. Jupyter Notebooks and Python are actually both known to be widely used within machine learning.\n",
    "\n",
    "<br>"
   ]
  },
  {
   "cell_type": "markdown",
   "id": "bc22ca07",
   "metadata": {},
   "source": [
    "<h3>How is Git used as a version control system?</h3>\n",
    "\n",
    "You create a repository and then you make changes to it. You can commit these changes and then push them to the repo. You can also pull changes done by someone else, or on another device to be caught up with the branch you are.\n",
    "\n",
    "You can easily revert to a previous state with the git reset command and the commit id obtained via the git log command.\n",
    "<br>"
   ]
  },
  {
   "cell_type": "markdown",
   "id": "83ce8730",
   "metadata": {},
   "source": [
    "<h3>How can Git be used effectively in a highly distributed software development environment involving multiple countries?</h3>\n",
    "\n",
    "You can do this by design!\n",
    "\n",
    "You can create different branches depending on what you want to specifically work on depending the case-by-case basis. Some branches could be further from live than others. You could clone a branch even and slowly work on the language aspect of the user experience for example in the context of using git to distrubute software across different populations.\n",
    "<br>"
   ]
  },
  {
   "cell_type": "markdown",
   "id": "bf617997",
   "metadata": {},
   "source": [
    "<h3>Describe the fundamental differences between C and Python.</h3>\n",
    "\n",
    "Python and C have their own purposes, but they can differ in many ways.\n",
    "\n",
    "Python is known to be easier to write and comprehend, whilst having terrible runtime efficiency, whilst C differs in being the opposite of that.\n",
    "\n",
    "Python doesn't require you to manage memory manually, whilst C does.\n",
    "\n",
    "Python looks for errors are runtime, not when compiling (which C does).\n",
    "<br>"
   ]
  },
  {
   "cell_type": "markdown",
   "id": "9d7c5cbd",
   "metadata": {},
   "source": [
    "<h3>How challenging was learning C and completing Assignment 1 for you?</h3>\n",
    "\n",
    "Learning C and completing Assignment 1 was not particularly challenging for me - writing a program in C for the first time went well, and I didnt face major issues with the use of pointers or logical errors.\n",
    "\n",
    "However, I did find it challenging making my code more readable and maintainable. I realized that while my program worked correctly, it wasnt easy to understand its purpose and how it achieved its functionality. This lack of clarity made it difficult for others (and even myself) to comprehend the code and make modifications or improvements.\n",
    "\n",
    "I learned that hard way that I should be employing a top-down approach from the start - like the one Professor Muller instructed us to use. Rather than making my code fit an organizational mold after it has been created.\n",
    "\n",
    "It can be really challenging breaking down a large piece of code into smaller, segmented, and specific functions. Its wise just to start from the beginning.\n",
    "<br>\n",
    "\n",
    "<h3>How challenging was assignment 2?</h3>\n",
    "\n",
    "Honestly, it was very easy. I looked up information about pandas, and specifically googled relevant functionality and it was a cakewalk.\n",
    "\n",
    "<h3>How challenging was assignment 3?</h3>\n",
    "\n",
    "I had a LOT of fun with this assignment. I started the day after it was released, and was able to 'finish' that same day. I had to debug an issue on it serverside, and saved that towards the deadline.\n",
    "\n",
    "I made my code more dynamic than it needed to be at every opportunity. I made no assumptions about where the criteria I was looking for had to be, and I also made my code able to accept multiple files.\n",
    "\n",
    "I think I could have made improvments in the sense of using a structure to define what my linked list was doing, but I felt that I already has so much well written code that I didnt want to make that change towards the end.\n",
    "\n",
    "I learned the most from this assignment easily.\n",
    "\n",
    "<h3>How challenging was assignment 4</h3>\n",
    "\n",
    "I have not finished even begun this assignment yet. Conceptually it seems fun and interesting, but I am not looking forward to writing python and would have preferred more C!"
   ]
  },
  {
   "cell_type": "markdown",
   "id": "abafa055",
   "metadata": {},
   "source": [
    "<h3>Sources</h3>\n",
    "\n",
    "I did't go out of my way to write down specific sources for information found as most of what I wrote in here has been a recap of my experiences in this course thus far, but all of the knowledge obtained here was done through the following sources.\n",
    "\n",
    "1) Hausi Muller and the rest of the SENG 265 teaching team\n",
    "\n",
    "2) chatGPT\n",
    "\n",
    "3) stackOverflow\n"
   ]
  }
 ],
 "metadata": {
  "kernelspec": {
   "display_name": "Python 3 (ipykernel)",
   "language": "python",
   "name": "python3"
  },
  "language_info": {
   "codemirror_mode": {
    "name": "ipython",
    "version": 3
   },
   "file_extension": ".py",
   "mimetype": "text/x-python",
   "name": "python",
   "nbconvert_exporter": "python",
   "pygments_lexer": "ipython3",
   "version": "3.10.6"
  }
 },
 "nbformat": 4,
 "nbformat_minor": 5
}
